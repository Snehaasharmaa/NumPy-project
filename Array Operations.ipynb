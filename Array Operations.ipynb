{
 "cells": [
  {
   "cell_type": "markdown",
   "id": "f393a89e-fa1e-4331-b1b2-00c060a0ec02",
   "metadata": {},
   "source": [
    "## Basic Array Operations with NumPy"
   ]
  },
  {
   "cell_type": "code",
   "execution_count": 2,
   "id": "e2609ed7-3466-494a-b52e-e942330e0346",
   "metadata": {},
   "outputs": [],
   "source": [
    "import numpy as np"
   ]
  },
  {
   "cell_type": "code",
   "execution_count": 4,
   "id": "069b5536-0b77-428f-9b42-8b261f3e4c2c",
   "metadata": {},
   "outputs": [],
   "source": [
    "a=np.array([10,23,36])\n",
    "b=np.array([67,89,40])"
   ]
  },
  {
   "cell_type": "code",
   "execution_count": 60,
   "id": "db8e9326-ce4f-4c9f-a0ee-435ffb6ad5cb",
   "metadata": {},
   "outputs": [
    {
     "name": "stdout",
     "output_type": "stream",
     "text": [
      "array 1 = [10 23 36]\n"
     ]
    }
   ],
   "source": [
    "print('array 1 =', a)"
   ]
  },
  {
   "cell_type": "code",
   "execution_count": 58,
   "id": "7cbed3b6-5efd-4538-88f8-8159d2f0df45",
   "metadata": {},
   "outputs": [
    {
     "name": "stdout",
     "output_type": "stream",
     "text": [
      "array 2 = [67 89 40]\n"
     ]
    }
   ],
   "source": [
    "print('array 2 =',b)"
   ]
  },
  {
   "cell_type": "code",
   "execution_count": null,
   "id": "c400f3db-375e-401c-af8a-6a870d1bfc73",
   "metadata": {},
   "outputs": [],
   "source": [
    "#Addition"
   ]
  },
  {
   "cell_type": "code",
   "execution_count": 67,
   "id": "b440d27b-da94-4cdc-8315-aadfbcb282e6",
   "metadata": {},
   "outputs": [
    {
     "name": "stdout",
     "output_type": "stream",
     "text": [
      "adding array 1 and array 2= [ 77 112  76]\n"
     ]
    }
   ],
   "source": [
    "print('adding array 1 and array 2=',a+b)"
   ]
  },
  {
   "cell_type": "code",
   "execution_count": null,
   "id": "fe3cceb5-0063-4d25-93b1-94aa1d8b5891",
   "metadata": {},
   "outputs": [],
   "source": [
    "#Subtraction"
   ]
  },
  {
   "cell_type": "code",
   "execution_count": 69,
   "id": "27ea1115-9ad1-47fd-91c5-8aebd3e705a1",
   "metadata": {},
   "outputs": [
    {
     "name": "stdout",
     "output_type": "stream",
     "text": [
      "substracting array 1 and array 2= [-57 -66  -4]\n"
     ]
    }
   ],
   "source": [
    "print('substracting array 1 and array 2=',a-b)"
   ]
  },
  {
   "cell_type": "code",
   "execution_count": null,
   "id": "4b4f4ddd-2b01-4c2f-b0ca-778e91db416c",
   "metadata": {},
   "outputs": [],
   "source": [
    "#Multiplication"
   ]
  },
  {
   "cell_type": "code",
   "execution_count": 71,
   "id": "82b8b7ee-f7ee-4176-a6b2-440dbac43901",
   "metadata": {},
   "outputs": [
    {
     "name": "stdout",
     "output_type": "stream",
     "text": [
      "mulitiplying array 1 and array 2= [ 670 2047 1440]\n"
     ]
    }
   ],
   "source": [
    "print('mulitiplying array 1 and array 2=',a*b)"
   ]
  },
  {
   "cell_type": "code",
   "execution_count": null,
   "id": "d1d8dfa2-8d87-44a8-9632-cf984e5ef829",
   "metadata": {},
   "outputs": [],
   "source": [
    "#Dot product"
   ]
  },
  {
   "cell_type": "code",
   "execution_count": 81,
   "id": "f75674de-a75a-4d14-8c1a-abc1a47193d1",
   "metadata": {},
   "outputs": [
    {
     "name": "stdout",
     "output_type": "stream",
     "text": [
      "dot product of array 1 and array 2= 4157\n"
     ]
    }
   ],
   "source": [
    "print('dot product of array 1 and array 2=',a.dot(b))"
   ]
  },
  {
   "cell_type": "code",
   "execution_count": null,
   "id": "69764c2e-6549-4c09-888c-d78f03b25110",
   "metadata": {},
   "outputs": [],
   "source": [
    "#Division"
   ]
  },
  {
   "cell_type": "code",
   "execution_count": 73,
   "id": "d0892d30-8f10-4d1a-9b7c-c4c8e9ecfcf6",
   "metadata": {},
   "outputs": [
    {
     "name": "stdout",
     "output_type": "stream",
     "text": [
      "dividing array 1 and array 2= [0.14925373 0.25842697 0.9       ]\n"
     ]
    }
   ],
   "source": [
    "print('dividing array 1 and array 2=',a/b)"
   ]
  },
  {
   "cell_type": "code",
   "execution_count": null,
   "id": "9f0bbd7e-3673-49f2-84f4-dbf1960234c9",
   "metadata": {},
   "outputs": [],
   "source": [
    "#Floor division"
   ]
  },
  {
   "cell_type": "code",
   "execution_count": 75,
   "id": "692b31de-5bb1-4fef-b24e-2741a630e633",
   "metadata": {},
   "outputs": [
    {
     "name": "stdout",
     "output_type": "stream",
     "text": [
      "floor division between array 1 and array 2= [0 0 0]\n"
     ]
    }
   ],
   "source": [
    "print('floor division between array 1 and array 2=',a//b)"
   ]
  }
 ],
 "metadata": {
  "kernelspec": {
   "display_name": "Python [conda env:base] *",
   "language": "python",
   "name": "conda-base-py"
  },
  "language_info": {
   "codemirror_mode": {
    "name": "ipython",
    "version": 3
   },
   "file_extension": ".py",
   "mimetype": "text/x-python",
   "name": "python",
   "nbconvert_exporter": "python",
   "pygments_lexer": "ipython3",
   "version": "3.12.7"
  }
 },
 "nbformat": 4,
 "nbformat_minor": 5
}
